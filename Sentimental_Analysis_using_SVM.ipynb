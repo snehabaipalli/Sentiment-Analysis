{
  "nbformat": 4,
  "nbformat_minor": 0,
  "metadata": {
    "colab": {
      "name": "Sentimental Analysis using SVM.ipynb",
      "provenance": [],
      "collapsed_sections": []
    },
    "kernelspec": {
      "name": "python3",
      "display_name": "Python 3"
    },
    "language_info": {
      "name": "python"
    }
  },
  "cells": [
    {
      "cell_type": "code",
      "source": [
        "import pandas as pd\n",
        "from sklearn.model_selection import train_test_split # Import train_test_split function\n",
        "from sklearn import metrics #Import scikit-learn metrics module for accuracy calculation"
      ],
      "metadata": {
        "id": "roHGj9Gc5xvD"
      },
      "execution_count": null,
      "outputs": []
    },
    {
      "cell_type": "code",
      "source": [
        "df = pd.read_csv(\"data.csv\")"
      ],
      "metadata": {
        "id": "nKszviIOJlIR"
      },
      "execution_count": null,
      "outputs": []
    },
    {
      "cell_type": "markdown",
      "source": [
        "#SPLIT THE DATA "
      ],
      "metadata": {
        "id": "cBSLHnPTJ_5w"
      }
    },
    {
      "cell_type": "code",
      "source": [
        "x_train, x_test, y_train, y_test = train_test_split(df[\"Sentence\"], df[\"Sentiment\"], test_size=0.25, random_state=1) # 75% training and 30% test"
      ],
      "metadata": {
        "id": "QOkIprOlJp2w"
      },
      "execution_count": null,
      "outputs": []
    },
    {
      "cell_type": "markdown",
      "source": [
        "#Importing the Decision Tree model to train"
      ],
      "metadata": {
        "id": "EqIAs_InKuOg"
      }
    },
    {
      "cell_type": "code",
      "source": [
        "from sklearn.svm import SVC # Import SVM Classifier\n",
        "from sklearn.pipeline import Pipeline\n",
        "from sklearn.feature_extraction.text import TfidfVectorizer\n"
      ],
      "metadata": {
        "id": "hvBMSmpcKOVa"
      },
      "execution_count": null,
      "outputs": []
    },
    {
      "cell_type": "code",
      "source": [
        "#creating pipeline object which will be follow the same sequences of execution\n",
        "pipeliner= Pipeline([(\"tfidf\",TfidfVectorizer()),(\"classifier\",SVC())])\n",
        "pipeliner=pipeliner.fit(x_train,y_train)"
      ],
      "metadata": {
        "id": "NHT86FulK6w_"
      },
      "execution_count": null,
      "outputs": []
    },
    {
      "cell_type": "markdown",
      "source": [
        "#Predicting the model"
      ],
      "metadata": {
        "id": "lfg3gaCvLTA-"
      }
    },
    {
      "cell_type": "code",
      "source": [
        "y_pred = pipeliner.predict(x_test)"
      ],
      "metadata": {
        "id": "N55pui0NLMIK"
      },
      "execution_count": null,
      "outputs": []
    },
    {
      "cell_type": "code",
      "source": [
        "from sklearn.metrics import classification_report,accuracy_score,confusion_matrix"
      ],
      "metadata": {
        "id": "7Wx2yEzwLX0-"
      },
      "execution_count": null,
      "outputs": []
    },
    {
      "cell_type": "code",
      "source": [
        "accuracy_score(y_test,y_pred)"
      ],
      "metadata": {
        "id": "MrelujFaLZxn",
        "colab": {
          "base_uri": "https://localhost:8080/"
        },
        "outputId": "01bd605a-b2fa-43d2-8d4a-c49757f06948"
      },
      "execution_count": null,
      "outputs": [
        {
          "output_type": "execute_result",
          "data": {
            "text/plain": [
              "0.6837782340862423"
            ]
          },
          "metadata": {},
          "execution_count": 22
        }
      ]
    },
    {
      "cell_type": "code",
      "source": [
        "print(classification_report(y_test,y_pred))"
      ],
      "metadata": {
        "id": "QzV7btk6LbU7",
        "colab": {
          "base_uri": "https://localhost:8080/"
        },
        "outputId": "120e2611-7e79-473a-bf77-7a625fcae9e2"
      },
      "execution_count": null,
      "outputs": [
        {
          "output_type": "stream",
          "name": "stdout",
          "text": [
            "              precision    recall  f1-score   support\n",
            "\n",
            "    negative       0.21      0.08      0.11       213\n",
            "     neutral       0.68      0.89      0.77       780\n",
            "    positive       0.80      0.62      0.70       468\n",
            "\n",
            "    accuracy                           0.68      1461\n",
            "   macro avg       0.56      0.53      0.53      1461\n",
            "weighted avg       0.65      0.68      0.65      1461\n",
            "\n"
          ]
        }
      ]
    },
    {
      "cell_type": "markdown",
      "source": [
        "# Now take input from the user and test the data weather it is positive/negative/neutral"
      ],
      "metadata": {
        "id": "ltOvIZD_Lnbk"
      }
    },
    {
      "cell_type": "code",
      "source": [
        "test1 = [\"The GeoSolutions technology will leverage Benefon 's GPS solutions by providing Location Based Search Technology , a Communities Platform , location relevant multimedia content and a new and powerful commercial model \"]\n",
        "test2 = [\"$ESI on lows, down $1.50 to $2.50 BK a real possibility\"]\n",
        "test3 = [\"According to the Finnish-Russian Chamber of Commerce , all the major construction companies of Finland are operating in Russia .\"]\n",
        "test = [\"Netflix has won the best  selection of films\",\"Hulu has a great UI\",\"I dislike like the new crime series\",\"I hate waiting for the next series to come out\"]"
      ],
      "metadata": {
        "id": "pY74zN7MLdLG"
      },
      "execution_count": null,
      "outputs": []
    },
    {
      "cell_type": "code",
      "source": [
        "print(pipeliner.predict(test1))\n",
        "print(pipeliner.predict(test2))\n",
        "print(pipeliner.predict(test3))\n",
        "print(pipeliner.predict(test))"
      ],
      "metadata": {
        "id": "PnJiNumVLg5P",
        "colab": {
          "base_uri": "https://localhost:8080/"
        },
        "outputId": "fc5169c1-63e5-4ddb-9a92-be3465319968"
      },
      "execution_count": null,
      "outputs": [
        {
          "output_type": "stream",
          "name": "stdout",
          "text": [
            "['positive']\n",
            "['negative']\n",
            "['neutral']\n",
            "['positive' 'positive' 'neutral' 'neutral']\n"
          ]
        }
      ]
    },
    {
      "cell_type": "code",
      "source": [
        "import pickle\n",
        "with open('Sentiment_analysis_SVM.pkl', 'wb') as handle:\n",
        "  pickle.dump(pipeliner, handle, protocol=pickle.HIGHEST_PROTOCOL)"
      ],
      "metadata": {
        "id": "BFek9rHQxG2r"
      },
      "execution_count": null,
      "outputs": []
    }
  ]
}